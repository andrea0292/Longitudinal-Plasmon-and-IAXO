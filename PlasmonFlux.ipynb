{
 "cells": [
  {
   "cell_type": "code",
   "execution_count": 4,
   "metadata": {},
   "outputs": [],
   "source": [
    "import matplotlib\n",
    "import matplotlib.pyplot as plt\n",
    "import numpy as np\n",
    "\n",
    "\n",
    "\n",
    "# Let's consider to start parameters and functions for the IAXO \n",
    "\n",
    "#Set some useful constant\n",
    "\n",
    "frommtoeV = 1/(1.97e-7) # from meter to eV^-1\n",
    "\n",
    "K_2_keV = 8.617333262e-5/1e3 # convert Kelvin to keV\n",
    "cm_2_keV = 1.0/(1e6*1.9732e-14) # convert cm to keV^-1\n",
    "fsc = 1.0/137.036 # fine structure constant\n",
    "amu_grams = 1.66054e-24 # amu in grams\n",
    "AU_cm = 100*1.495978707e11 # cm\n",
    "Rsol_keV = 696340*1000*100*cm_2_keV\n",
    "keV_2_s = 1000/6.5821e-16\n",
    "\n",
    "L = 20 * frommtoeV *1e3 #length of the magnet in keV^-1\n",
    "epsilonD = 0.7 # efficiency for the detector\n",
    "epsilonT = 0.8 # efficiency for the telescope\n",
    "S = 2.26 * frommtoeV**2 * 1e6 # total cross-section area for the helioscope in keV^-2\n",
    "fromGtokeV2 = 1.953e-2 * 1e-6 # from Gauss to keV^2\n",
    "\n",
    "def ProbabilityOfConversion(Ea, B, ma): # B is the magnetic field, ma the mass of the axion and Ea its energy\n",
    "    # note: we factorized out the coupling axion-photon g\n",
    "    q = ma**2 /(2*Ea)  # q --> momentum transfer\n",
    "    if ma == 0:\n",
    "        return L**4 * B**2 /4\n",
    "    else:\n",
    "        return (B/q)**2 * np.sin(q * L/2)**2\n"
   ]
  },
  {
   "cell_type": "code",
   "execution_count": 7,
   "metadata": {},
   "outputs": [],
   "source": [
    "# We want to compute the LP flux \n",
    "\n",
    "# Load Saclay data\n",
    "r,M,T,rho,ne,wp,k_S = np.loadtxt('saclaymodel.txt',unpack=True)\n",
    "\n",
    "def MagneticFieldModel(r, Brad): # give the magnetic field in Gauss\n",
    "    # we leave the normalization of the radiative zone varying\n",
    "    \n",
    "    # Model 3: from https://arxiv.org/pdf/astro-ph/0203107.pdf\n",
    "    r0_12 = 0.712\n",
    "    lamb = 10*r0_12 + 1\n",
    "    dtach = 0.02\n",
    "    r0_31 = 0.96\n",
    "    douter  = 0.035\n",
    "    if r < (r0_12 - dtach) :\n",
    "        return(1+lamb)* (1+1/lamb)**lamb * Brad*(r/r0_12)**2 *(1-(r/r0_12)**2.0)**lamb\n",
    "    elif abs(r-r0_12) < dtach:\n",
    "        return 50.0e4*fromGtokeV2*(1-((r-r0_12)/dtach)**2.0)\n",
    "    elif abs(r-r0_31)<douter:\n",
    "        return 3e4*fromGtokeV2*(1-((r-r0_31)/douter)**2.0)\n",
    "    else:\n",
    "        return 0\n",
    "    \n",
    "gag = 1e-10 # GeV^-1\n",
    "gagkeV = gag/1e6\n",
    "\n",
    "# We define the plasmon flux without the coupling axion-photon that we can factorize out\n",
    "# in the final number of photons detected by IAXO\n",
    "\n",
    "def LplasmonFlux(omegavals,r,Brad,T,k_S,wp):\n",
    "    Brad = Brad*fromGtokeV2  # B must be in Gauss, then we get it in keV^2\n",
    "    rkeV = r*Rsol_keV\n",
    "    nvals = np.size(omegavals)\n",
    "    nrvals = np.size(r)\n",
    "    dwp = np.gradient(wp,rkeV)\n",
    "    dPhipl = np.zeros(shape=nvals)\n",
    "    for i in range(0,nvals):\n",
    "        w = omegavals[i]\n",
    "        ir = np.argmin(abs(w-wp))\n",
    "        r0 = rkeV[ir]\n",
    "        dPhipl[i] = keV_2_s*1/(12*np.pi*AU_cm**2.0)*(r0**2.0)*(w*w)*(MagneticFieldModel(r0/Rsol_keV,Brad)**2.0)/(np.exp(w/T[ir])-1)*(1/np.abs(dwp[ir-1]))\n",
    "    return dPhipl\n",
    "\n",
    "nvals = 1000\n",
    "omega_vals = np.logspace(-3,np.log10(20.0),nvals) \n",
    "dPhi_pl_seismic = (gagkeV)**2 * LplasmonFlux(omega_vals,r,1e7,T,k_S,wp)\n"
   ]
  },
  {
   "cell_type": "code",
   "execution_count": 8,
   "metadata": {},
   "outputs": [
    {
     "data": {
      "text/plain": [
       "Text(0, 0.5, '$d\\\\Psi/d\\\\omega (keV^{-1}cm^{-2}s-1^{})$]')"
      ]
     },
     "execution_count": 8,
     "metadata": {},
     "output_type": "execute_result"
    },
    {
     "data": {
      "image/png": "[encoded data removed]",
      "text/plain": [
       "<Figure size 432x288 with 1 Axes>"
      ]
     },
     "metadata": {
      "needs_background": "light"
     },
     "output_type": "display_data"
    }
   ],
   "source": [
    "plt.figure()\n",
    "\n",
    "plt.loglog()\n",
    "\n",
    "plt.plot(omega_vals,dPhi_pl_seismic,label='LP')\n",
    "\n",
    "plt.legend()\n",
    "\n",
    "plt.xlabel(r'$E_a(keV)$')\n",
    "plt.ylabel(r'$d\\Psi/d\\omega (keV^{-1}cm^{-2}s-1^{})$]')\n",
    "\n",
    "#plt.axis([1e-3, 1, 1e33, 1e43])\n"
   ]
  },
  {
   "cell_type": "code",
   "execution_count": 9,
   "metadata": {},
   "outputs": [
    {
     "name": "stderr",
     "output_type": "stream",
     "text": [
      "/Users/andreacaputo/anaconda3/lib/python3.7/site-packages/ipykernel_launcher.py:27: RuntimeWarning: overflow encountered in exp\n"
     ]
    }
   ],
   "source": [
    "# Primakoff flux\n",
    "nfine = 500\n",
    "costh = np.linspace(-1,0.999,nfine)\n",
    "\n",
    "\n",
    "gag = 1e-10 # GeV^-1\n",
    "gag_keV = gag/1e6\n",
    "\n",
    "\n",
    "nrvals = np.size(r)\n",
    "r_keV = r*Rsol_keV\n",
    "\n",
    "nvals = 1000\n",
    "omega_vals = np.logspace(-3,np.log10(20.0),nvals) # keV\n",
    "dPhi_P = np.zeros(shape=nvals)\n",
    "for i_w in range(0,nvals):\n",
    "    ka = omega_vals[i_w]\n",
    "    w = omega_vals[i_w]\n",
    "    Gam = np.zeros(shape=nrvals)\n",
    "    for i_r in range(0,nrvals):\n",
    "        if w>wp[i_r]:\n",
    "            kphoton = np.sqrt(w**2.0-wp[i_r]**2.0)\n",
    "            x = (ka**2.0+kphoton**2.0)/(2*ka*kphoton)\n",
    "            y = x + k_S[i_r]**2.0/(2*ka*kphoton)\n",
    "            Gam[i_r] = (gag_keV**2.0*k_S[i_r]**2.0*T[i_r]/(64*np.pi))*np.trapz((1-costh**2.0)/((x-costh)*(y-costh)),costh)\n",
    "    Gam *= keV_2_s\n",
    "    dPhi_P[i_w] = (1.0/(AU_cm**2.0))*(w/np.pi)**2.0*np.trapz(r_keV**2.0*Gam/(np.exp(w/T)-1),r_keV)\n"
   ]
  },
  {
   "cell_type": "code",
   "execution_count": 10,
   "metadata": {},
   "outputs": [
    {
     "data": {
      "text/plain": [
       "<matplotlib.legend.Legend at 0x11352cac8>"
      ]
     },
     "execution_count": 10,
     "metadata": {},
     "output_type": "execute_result"
    },
    {
     "data": {
      "image/png": "[encoded data removed]",
      "text/plain": [
       "<Figure size 432x288 with 1 Axes>"
      ]
     },
     "metadata": {
      "needs_background": "light"
     },
     "output_type": "display_data"
    }
   ],
   "source": [
    "plt.loglog(omega_vals,dPhi_P,lw=3,label='Primakoff: Full calc.')\n",
    "\n",
    "plt.legend()"
   ]
  },
  {
   "cell_type": "code",
   "execution_count": 11,
   "metadata": {},
   "outputs": [],
   "source": [
    "# Let's now define the number of photon with and without smearing \n",
    "tempo = 3*3600*24*365 # 3 years in s, time of exposure \n",
    "Biaxo = 2.5 * fromGtokeV2\n",
    "\n",
    "# Note: Ea should be given as an array for the function that calculates the plasmon flux\n",
    "# Note : there is no g here, there should be a g^4 added of course \n",
    "\n",
    "def Nphoton(Ea, Brad, ma):\n",
    "    \n",
    "    return tempo* epsilonD * epsilonT * S * ProbabilityOfConversion(Ea, Biaxo, ma) * LplasmonFlux(Ea,r,Brad,T,k_S,wp)\n",
    "\n",
    "# Let's define an array of energies again \n",
    "\n",
    "omega_array = np.logspace(-4, -0.5, num = 200)\n",
    "\n",
    "def Nphoton_array(Brad,ma):\n",
    "    \n",
    "    return Nphoton(omega_array, Brad, ma)\n",
    "\n",
    "def SmearingN(Ea, Brad, ma, resolution):\n",
    "    \n",
    "    size = np.size(Ea)\n",
    "    flux = Nphoton(Ea, Brad, ma)\n",
    "    newflux = np.zeros(size)\n",
    "    \n",
    "    for i in range(size):\n",
    "        spread = np.abs(Ea[i] - Ea)\n",
    "        rescale = 1 /(resolution * np.sqrt(2*np.pi)) * np.exp(-(spread)**2/2/resolution**2)\n",
    "        newflux[i] = np.trapz(rescale * flux, Ea)\n",
    "    \n",
    "    newflux = newflux * np.trapz(flux,Ea) / np.trapz(newflux,Ea)\n",
    "        \n",
    "    return newflux\n"
   ]
  },
  {
   "cell_type": "code",
   "execution_count": 12,
   "metadata": {},
   "outputs": [],
   "source": [
    "try_flux = Nphoton(omega_array, 1e7, 1e-6)\n",
    "try_flux_smeared = SmearingN(omega_array, 1e7, 1e-6, 1e-2) "
   ]
  },
  {
   "cell_type": "code",
   "execution_count": 13,
   "metadata": {},
   "outputs": [
    {
     "data": {
      "text/plain": [
       "[0.0001, 1, 1e-08, 100000.0]"
      ]
     },
     "execution_count": 13,
     "metadata": {},
     "output_type": "execute_result"
    },
    {
     "data": {
      "image/png": "[encoded data removed]",
      "text/plain": [
       "<Figure size 432x288 with 1 Axes>"
      ]
     },
     "metadata": {
      "needs_background": "light"
     },
     "output_type": "display_data"
    }
   ],
   "source": [
    "plt.figure()\n",
    "\n",
    "plt.loglog()\n",
    "\n",
    "plt.plot(omega_array, (1e-2 * gagkeV)**4 * try_flux,label='LP')\n",
    "plt.plot(omega_array, (1e-2 * gagkeV)**4 * try_flux_smeared,label='LP')\n",
    "\n",
    "\n",
    "plt.legend()\n",
    "\n",
    "plt.xlabel(r'$E_a(keV)$')\n",
    "plt.ylabel(r'$d\\Psi/d\\omega (keV^{-1}cm^{-2}s-1^{})$]')\n",
    "\n",
    "plt.axis([1e-4, 1, 1e-8, 1e5])\n",
    "\n",
    "# FORGET ABOUT NORMALIZATION, THERE IS NO G THERE "
   ]
  },
  {
   "cell_type": "code",
   "execution_count": null,
   "metadata": {},
   "outputs": [],
   "source": []
  }
 ],
 "metadata": {
  "kernelspec": {
   "display_name": "Python 3",
   "language": "python",
   "name": "python3"
  },
  "language_info": {
   "codemirror_mode": {
    "name": "ipython",
    "version": 3
   },
   "file_extension": ".py",
   "mimetype": "text/x-python",
   "name": "python",
   "nbconvert_exporter": "python",
   "pygments_lexer": "ipython3",
   "version": "3.7.2"
  }
 },
 "nbformat": 4,
 "nbformat_minor": 4
}
